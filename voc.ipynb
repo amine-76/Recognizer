{
  "nbformat": 4,
  "nbformat_minor": 0,
  "metadata": {
    "colab": {
      "provenance": [],
      "authorship_tag": "ABX9TyP6Qexc7wgSpGzqyy5Y2JNY",
      "include_colab_link": true
    },
    "kernelspec": {
      "name": "python3",
      "display_name": "Python 3"
    },
    "language_info": {
      "name": "python"
    }
  },
  "cells": [
    {
      "cell_type": "markdown",
      "metadata": {
        "id": "view-in-github",
        "colab_type": "text"
      },
      "source": [
        "<a href=\"https://colab.research.google.com/github/amine-76/Recognizer/blob/main/voc.ipynb\" target=\"_parent\"><img src=\"https://colab.research.google.com/assets/colab-badge.svg\" alt=\"Open In Colab\"/></a>"
      ]
    },
    {
      "cell_type": "code",
      "execution_count": 14,
      "metadata": {
        "colab": {
          "base_uri": "https://localhost:8080/",
          "height": 383
        },
        "collapsed": true,
        "id": "MIJXk9EF7lR9",
        "outputId": "aacd9b0f-b55d-4777-9f32-b31f6d0d5ee6"
      },
      "outputs": [
        {
          "output_type": "error",
          "ename": "ModuleNotFoundError",
          "evalue": "No module named 'speech_recognition'",
          "traceback": [
            "\u001b[0;31m---------------------------------------------------------------------------\u001b[0m",
            "\u001b[0;31mModuleNotFoundError\u001b[0m                       Traceback (most recent call last)",
            "\u001b[0;32m<ipython-input-14-4c8508f44aef>\u001b[0m in \u001b[0;36m<cell line: 0>\u001b[0;34m()\u001b[0m\n\u001b[0;32m----> 1\u001b[0;31m \u001b[0;32mimport\u001b[0m \u001b[0mspeech_recognition\u001b[0m \u001b[0;32mas\u001b[0m \u001b[0msr\u001b[0m\u001b[0;34m\u001b[0m\u001b[0;34m\u001b[0m\u001b[0m\n\u001b[0m\u001b[1;32m      2\u001b[0m \u001b[0;32mimport\u001b[0m \u001b[0mpyttsx3\u001b[0m\u001b[0;34m\u001b[0m\u001b[0;34m\u001b[0m\u001b[0m\n\u001b[1;32m      3\u001b[0m \u001b[0;32mimport\u001b[0m \u001b[0mwebbrowser\u001b[0m\u001b[0;34m\u001b[0m\u001b[0;34m\u001b[0m\u001b[0m\n\u001b[1;32m      4\u001b[0m \u001b[0;32mimport\u001b[0m \u001b[0mdatetime\u001b[0m\u001b[0;34m\u001b[0m\u001b[0;34m\u001b[0m\u001b[0m\n\u001b[1;32m      5\u001b[0m \u001b[0;32mimport\u001b[0m \u001b[0mwikipedia\u001b[0m\u001b[0;34m\u001b[0m\u001b[0;34m\u001b[0m\u001b[0m\n",
            "\u001b[0;31mModuleNotFoundError\u001b[0m: No module named 'speech_recognition'",
            "",
            "\u001b[0;31m---------------------------------------------------------------------------\u001b[0;32m\nNOTE: If your import is failing due to a missing package, you can\nmanually install dependencies using either !pip or !apt.\n\nTo view examples of installing some common dependencies, click the\n\"Open Examples\" button below.\n\u001b[0;31m---------------------------------------------------------------------------\u001b[0m\n"
          ],
          "errorDetails": {
            "actions": [
              {
                "action": "open_url",
                "actionText": "Open Examples",
                "url": "/notebooks/snippets/importing_libraries.ipynb"
              }
            ]
          }
        }
      ],
      "source": [
        "import speech_recognition as sr\n",
        "import pyttsx3\n",
        "import webbrowser\n",
        "import datetime\n",
        "import wikipedia\n",
        "\n",
        "# Initialisation du moteur de voix\n",
        "engine = pyttsx3.init()\n",
        "engine.setProperty(\"rate\", 150)  # Vitesse de la voix\n",
        "engine.setProperty(\"volume\", 1.0)  # Volume à 100%\n",
        "\n",
        "# Fonction pour faire parler l'assistant\n",
        "def parler(texte):\n",
        "    engine.say(texte)\n",
        "    engine.runAndWait()\n",
        "\n",
        "# Fonction pour écouter la voix de l'utilisateur\n",
        "def ecouter():\n",
        "    recognizer = sr.Recognizer()\n",
        "    with sr.Microphone() as source:\n",
        "        print(\"🎤 Dites quelque chose...\")\n",
        "        recognizer.adjust_for_ambient_noise(source)\n",
        "        audio = recognizer.listen(source)\n",
        "\n",
        "    try:\n",
        "        texte = recognizer.recognize_google(audio, language=\"fr-FR\")  # Détection en français\n",
        "        print(\"Vous avez dit :\", texte)\n",
        "        return texte.lower()\n",
        "    except sr.UnknownValueError:\n",
        "        print(\"Je n'ai pas compris...\")\n",
        "        return \"\"\n",
        "    except sr.RequestError:\n",
        "        print(\"Problème avec l'API de reconnaissance vocale.\")\n",
        "        return \"\"\n",
        "\n",
        "# Fonction principale de l'assistant\n",
        "def assistant():\n",
        "    parler(\"Bonjour ! Comment puis-je vous aider ?\")\n",
        "\n",
        "    while True:\n",
        "        commande = ecouter()\n",
        "\n",
        "        if \"heure\" in commande:\n",
        "            heure = datetime.datetime.now().strftime(\"%H:%M\")\n",
        "            parler(f\"Il est {heure}\")\n",
        "\n",
        "        elif \"wikipedia\" in commande:\n",
        "            parler(\"Que voulez-vous chercher sur Wikipedia ?\")\n",
        "            sujet = ecouter()\n",
        "            if sujet:\n",
        "                try:\n",
        "                    result = wikipedia.summary(sujet, sentences=2, auto_suggest=False)\n",
        "                    parler(\"Voici ce que j'ai trouvé :\")\n",
        "                    parler(result)\n",
        "                except wikipedia.exceptions.PageError:\n",
        "                    parler(\"Désolé, je n'ai pas trouvé d'information sur ce sujet.\")\n",
        "\n",
        "        elif \"ouvre google\" in commande:\n",
        "            parler(\"J'ouvre Google\")\n",
        "            webbrowser.open(\"https://www.google.com\")\n",
        "\n",
        "        elif \"stop\" in commande or \"au revoir\" in commande:\n",
        "            parler(\"D'accord, à bientôt !\")\n",
        "            break\n",
        "\n",
        "        else:\n",
        "            parler(\"Je ne comprends pas cette commande.\")\n",
        "\n",
        "# Lancer l'assistant\n",
        "assistant()\n"
      ]
    }
  ]
}